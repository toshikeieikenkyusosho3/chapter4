{
 "cells": [
  {
   "cell_type": "code",
   "execution_count": 2,
   "metadata": {
    "scrolled": false
   },
   "outputs": [
    {
     "name": "stdout",
     "output_type": "stream",
     "text": [
      "               loss           mae           mse  epoch\n",
      "0      1.825099e+09  42495.390625  1.825099e+09      0\n",
      "1      1.825062e+09  42494.968750  1.825062e+09      1\n",
      "2      1.825026e+09  42494.546875  1.825026e+09      2\n",
      "3      1.824989e+09  42494.121094  1.824989e+09      3\n",
      "4      1.824952e+09  42493.695312  1.824952e+09      4\n",
      "...             ...           ...           ...    ...\n",
      "49995  6.893951e+05    689.342773  6.893951e+05  49995\n",
      "49996  6.893943e+05    689.433594  6.893943e+05  49996\n",
      "49997  6.893930e+05    689.365234  6.893930e+05  49997\n",
      "49998  6.893940e+05    689.409180  6.893940e+05  49998\n",
      "49999  6.893912e+05    689.387695  6.893912e+05  49999\n",
      "\n",
      "[50000 rows x 4 columns]\n"
     ]
    },
    {
     "data": {
      "image/png": "[encoded data removed]",
      "text/plain": [
       "<Figure size 432x288 with 1 Axes>"
      ]
     },
     "metadata": {
      "needs_background": "light"
     },
     "output_type": "display_data"
    },
    {
     "name": "stdout",
     "output_type": "stream",
     "text": [
      "2/1 - 0s\n",
      "\n",
      " Prediction using the developed model \n",
      " Evaluation input:   [[30], [36]] \n",
      " Predicted values:   [[39848.477]\n",
      " [43030.293]]\n"
     ]
    }
   ],
   "source": [
    "\"\"\"\n",
    "例題1：線形回帰モデル\n",
    "施設の築後年数から保守コストを予想する\n",
    "@author: t.imai\n",
    "\"\"\"\n",
    "%matplotlib inline\n",
    "\n",
    "import tensorflow as tf\n",
    "import matplotlib.pyplot as plt\n",
    "import numpy as np \n",
    "import pandas as pd\n",
    " \n",
    "from tensorflow import keras\n",
    "from tensorflow.keras import layers\n",
    "\n",
    "# この例題では、入力値を直接プラグラム文にかきこんでいる。普通は別ファイルから読み込む。\n",
    "x_train = np.array([[33], [23], [39], [45]])\n",
    "y_train = np.array([[41000], [36000], [46000], [47000]])\n",
    "\n",
    "model = tf.keras.models.Sequential([\n",
    "  keras.layers.Dense(100, activation='relu'),     \n",
    "  keras.layers.Dense(1)\n",
    "])\n",
    "\n",
    "model.compile(optimizer='adam',\n",
    "              loss='mse',\n",
    "              metrics=['mae', 'mse'])\n",
    "\n",
    "history = model.fit(x_train, y_train, epochs=50000, verbose=0)\n",
    "\n",
    "def plot_history(history):\n",
    "  hist = pd.DataFrame(history.history)\n",
    "  hist['epoch'] = history.epoch\n",
    "\n",
    "  print(hist)  \n",
    "\n",
    "  plt.figure()\n",
    "  plt.xlabel('Epoch')\n",
    "  plt.ylabel('Mean Abs Error')\n",
    "  plt.plot(hist['epoch'], hist['mae'],\n",
    "           label='Train Error')\n",
    "  plt.legend()  \n",
    "  plt.show()\n",
    "\n",
    "plot_history(history)\n",
    "\n",
    "x_test = [[30], [36]]\n",
    "y_test = model.predict(x_test, verbose=2)\n",
    "print (\"\\n Prediction using the developed model\", \\\n",
    "       \"\\n Evaluation input:  \", x_test, \\\n",
    "       \"\\n Predicted values:  \", y_test)"
   ]
  },
  {
   "cell_type": "code",
   "execution_count": null,
   "metadata": {},
   "outputs": [],
   "source": []
  }
 ],
 "metadata": {
  "kernelspec": {
   "display_name": "Python 3",
   "language": "python",
   "name": "python3"
  },
  "language_info": {
   "codemirror_mode": {
    "name": "ipython",
    "version": 3
   },
   "file_extension": ".py",
   "mimetype": "text/x-python",
   "name": "python",
   "nbconvert_exporter": "python",
   "pygments_lexer": "ipython3",
   "version": "3.6.5"
  }
 },
 "nbformat": 4,
 "nbformat_minor": 2
}
